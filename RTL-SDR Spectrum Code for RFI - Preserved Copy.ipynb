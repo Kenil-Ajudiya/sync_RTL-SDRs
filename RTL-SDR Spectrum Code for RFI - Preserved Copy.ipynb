{
 "cells": [
  {
   "cell_type": "code",
   "execution_count": 62,
   "metadata": {},
   "outputs": [],
   "source": [
    "import numpy as np\n",
    "import pandas as pd\n",
    "import matplotlib\n",
    "import matplotlib.pyplot as plt"
   ]
  },
  {
   "cell_type": "code",
   "execution_count": 63,
   "metadata": {},
   "outputs": [],
   "source": [
    "# spectrum_startFreq, spectrum_endFreq = 80, 90   #in Mhz\n",
    "# no_of_hops = 4\n",
    "# dp_per_hop = 1024\n",
    "# stepFreq = 0.002734     #in MHz\n",
    "\n",
    "# total_spectral_length = spectrum_endFreq - spectrum_startFreq\n",
    "# spectral_length_of_hop = total_spectral_length / no_of_hops\n",
    "# dp_overlap_per_hop = (no_of_hops * dp_per_hop - total_spectral_length / stepFreq) / no_of_hops\n",
    "# spectral_overlap_per_hop = dp_overlap_per_hop / dp_per_hop * spectral_length_of_hop\n",
    "\n",
    "# hop_startFreq = spectrum_startFreq\n",
    "# hop_endFreq = hop_startFreq + spectral_length_of_hop\n",
    "# frequencies = []"
   ]
  },
  {
   "cell_type": "code",
   "execution_count": 64,
   "metadata": {},
   "outputs": [],
   "source": [
    "# for i in range(no_of_hops - 1):\n",
    "#     frequencies += list(np.linspace(hop_startFreq, hop_endFreq, dp_per_hop))\n",
    "#     hop_startFreq = hop_endFreq - spectral_overlap_per_hop\n",
    "#     hop_endFreq = hop_startFreq + spectral_length_of_hop\n",
    "# frequencies += list(np.linspace(spectrum_endFreq - spectral_length_of_hop, spectrum_endFreq, dp_per_hop))"
   ]
  },
  {
   "cell_type": "code",
   "execution_count": 65,
   "metadata": {},
   "outputs": [],
   "source": [
    "# spectral_overlap_per_hop"
   ]
  },
  {
   "cell_type": "code",
   "execution_count": 96,
   "metadata": {},
   "outputs": [],
   "source": [
    "frequencies = np.linspace(1419,1421, 1024, endpoint=False)"
   ]
  },
  {
   "cell_type": "code",
   "execution_count": 97,
   "metadata": {},
   "outputs": [
    {
     "data": {
      "text/plain": [
       "(array([1420.98046875, 1420.98242188, 1420.984375  , 1420.98632812,\n",
       "        1420.98828125, 1420.99023438, 1420.9921875 , 1420.99414062,\n",
       "        1420.99609375, 1420.99804688]),\n",
       " 1024)"
      ]
     },
     "execution_count": 97,
     "metadata": {},
     "output_type": "execute_result"
    }
   ],
   "source": [
    "frequencies[-10:], len(frequencies)"
   ]
  },
  {
   "cell_type": "code",
   "execution_count": 94,
   "metadata": {},
   "outputs": [],
   "source": [
    "file_name = \"bare_spectrum_1\"\n",
    "intensity_data = np.fromfile(f\"{file_name}.bin\", dtype=np.float32)\n",
    "intensity_data = pd.DataFrame(intensity_data)"
   ]
  },
  {
   "cell_type": "code",
   "execution_count": 95,
   "metadata": {},
   "outputs": [
    {
     "data": {
      "text/html": [
       "<div>\n",
       "<style scoped>\n",
       "    .dataframe tbody tr th:only-of-type {\n",
       "        vertical-align: middle;\n",
       "    }\n",
       "\n",
       "    .dataframe tbody tr th {\n",
       "        vertical-align: top;\n",
       "    }\n",
       "\n",
       "    .dataframe thead th {\n",
       "        text-align: right;\n",
       "    }\n",
       "</style>\n",
       "<table border=\"1\" class=\"dataframe\">\n",
       "  <thead>\n",
       "    <tr style=\"text-align: right;\">\n",
       "      <th></th>\n",
       "      <th>0</th>\n",
       "    </tr>\n",
       "  </thead>\n",
       "  <tbody>\n",
       "    <tr>\n",
       "      <th>0</th>\n",
       "      <td>-66.117027</td>\n",
       "    </tr>\n",
       "    <tr>\n",
       "      <th>1</th>\n",
       "      <td>-66.323936</td>\n",
       "    </tr>\n",
       "    <tr>\n",
       "      <th>2</th>\n",
       "      <td>-66.335342</td>\n",
       "    </tr>\n",
       "    <tr>\n",
       "      <th>3</th>\n",
       "      <td>-66.121483</td>\n",
       "    </tr>\n",
       "    <tr>\n",
       "      <th>4</th>\n",
       "      <td>-66.049316</td>\n",
       "    </tr>\n",
       "    <tr>\n",
       "      <th>...</th>\n",
       "      <td>...</td>\n",
       "    </tr>\n",
       "    <tr>\n",
       "      <th>1019</th>\n",
       "      <td>-66.139450</td>\n",
       "    </tr>\n",
       "    <tr>\n",
       "      <th>1020</th>\n",
       "      <td>-66.147331</td>\n",
       "    </tr>\n",
       "    <tr>\n",
       "      <th>1021</th>\n",
       "      <td>-66.194084</td>\n",
       "    </tr>\n",
       "    <tr>\n",
       "      <th>1022</th>\n",
       "      <td>-66.275368</td>\n",
       "    </tr>\n",
       "    <tr>\n",
       "      <th>1023</th>\n",
       "      <td>-66.120667</td>\n",
       "    </tr>\n",
       "  </tbody>\n",
       "</table>\n",
       "<p>1024 rows × 1 columns</p>\n",
       "</div>"
      ],
      "text/plain": [
       "              0\n",
       "0    -66.117027\n",
       "1    -66.323936\n",
       "2    -66.335342\n",
       "3    -66.121483\n",
       "4    -66.049316\n",
       "...         ...\n",
       "1019 -66.139450\n",
       "1020 -66.147331\n",
       "1021 -66.194084\n",
       "1022 -66.275368\n",
       "1023 -66.120667\n",
       "\n",
       "[1024 rows x 1 columns]"
      ]
     },
     "execution_count": 95,
     "metadata": {},
     "output_type": "execute_result"
    }
   ],
   "source": [
    "intensity_data"
   ]
  },
  {
   "cell_type": "code",
   "execution_count": 99,
   "metadata": {},
   "outputs": [],
   "source": [
    "intensity_data[\"power spectral density [dB/Hz]\"] = intensity_data.iloc[:, 0]\n",
    "del intensity_data[0]"
   ]
  },
  {
   "cell_type": "code",
   "execution_count": 100,
   "metadata": {},
   "outputs": [],
   "source": [
    "intensity_data[\"frequency [MHz]\"] = frequencies"
   ]
  },
  {
   "cell_type": "code",
   "execution_count": 101,
   "metadata": {},
   "outputs": [
    {
     "data": {
      "text/html": [
       "<div>\n",
       "<style scoped>\n",
       "    .dataframe tbody tr th:only-of-type {\n",
       "        vertical-align: middle;\n",
       "    }\n",
       "\n",
       "    .dataframe tbody tr th {\n",
       "        vertical-align: top;\n",
       "    }\n",
       "\n",
       "    .dataframe thead th {\n",
       "        text-align: right;\n",
       "    }\n",
       "</style>\n",
       "<table border=\"1\" class=\"dataframe\">\n",
       "  <thead>\n",
       "    <tr style=\"text-align: right;\">\n",
       "      <th></th>\n",
       "      <th>power spectral density [dB/Hz]</th>\n",
       "      <th>frequency [MHz]</th>\n",
       "    </tr>\n",
       "  </thead>\n",
       "  <tbody>\n",
       "    <tr>\n",
       "      <th>0</th>\n",
       "      <td>-66.117027</td>\n",
       "      <td>1419.000000</td>\n",
       "    </tr>\n",
       "    <tr>\n",
       "      <th>1</th>\n",
       "      <td>-66.323936</td>\n",
       "      <td>1419.001953</td>\n",
       "    </tr>\n",
       "    <tr>\n",
       "      <th>2</th>\n",
       "      <td>-66.335342</td>\n",
       "      <td>1419.003906</td>\n",
       "    </tr>\n",
       "    <tr>\n",
       "      <th>3</th>\n",
       "      <td>-66.121483</td>\n",
       "      <td>1419.005859</td>\n",
       "    </tr>\n",
       "    <tr>\n",
       "      <th>4</th>\n",
       "      <td>-66.049316</td>\n",
       "      <td>1419.007812</td>\n",
       "    </tr>\n",
       "    <tr>\n",
       "      <th>...</th>\n",
       "      <td>...</td>\n",
       "      <td>...</td>\n",
       "    </tr>\n",
       "    <tr>\n",
       "      <th>1019</th>\n",
       "      <td>-66.139450</td>\n",
       "      <td>1420.990234</td>\n",
       "    </tr>\n",
       "    <tr>\n",
       "      <th>1020</th>\n",
       "      <td>-66.147331</td>\n",
       "      <td>1420.992188</td>\n",
       "    </tr>\n",
       "    <tr>\n",
       "      <th>1021</th>\n",
       "      <td>-66.194084</td>\n",
       "      <td>1420.994141</td>\n",
       "    </tr>\n",
       "    <tr>\n",
       "      <th>1022</th>\n",
       "      <td>-66.275368</td>\n",
       "      <td>1420.996094</td>\n",
       "    </tr>\n",
       "    <tr>\n",
       "      <th>1023</th>\n",
       "      <td>-66.120667</td>\n",
       "      <td>1420.998047</td>\n",
       "    </tr>\n",
       "  </tbody>\n",
       "</table>\n",
       "<p>1024 rows × 2 columns</p>\n",
       "</div>"
      ],
      "text/plain": [
       "      power spectral density [dB/Hz]  frequency [MHz]\n",
       "0                         -66.117027      1419.000000\n",
       "1                         -66.323936      1419.001953\n",
       "2                         -66.335342      1419.003906\n",
       "3                         -66.121483      1419.005859\n",
       "4                         -66.049316      1419.007812\n",
       "...                              ...              ...\n",
       "1019                      -66.139450      1420.990234\n",
       "1020                      -66.147331      1420.992188\n",
       "1021                      -66.194084      1420.994141\n",
       "1022                      -66.275368      1420.996094\n",
       "1023                      -66.120667      1420.998047\n",
       "\n",
       "[1024 rows x 2 columns]"
      ]
     },
     "execution_count": 101,
     "metadata": {},
     "output_type": "execute_result"
    }
   ],
   "source": [
    "intensity_data"
   ]
  },
  {
   "cell_type": "code",
   "execution_count": 104,
   "metadata": {},
   "outputs": [
    {
     "data": {
      "image/png": "[encoded data removed]",
      "text/plain": [
       "<Figure size 432x288 with 1 Axes>"
      ]
     },
     "metadata": {
      "needs_background": "light"
     },
     "output_type": "display_data"
    }
   ],
   "source": [
    "plt.plot(intensity_data.iloc[:, 1], intensity_data.iloc[:, 0])\n",
    "plt.xlabel(\"Frequency [MHz]\")\n",
    "plt.ylabel(\"Power [dB]\")\n",
    "plt.title(\"RFI in N Block Hostel Room\")\n",
    "plt.xticks([1419.0, 1419.5, 1420.0, 1420.5, 1421.0])\n",
    "matplotlib.rc('xtick', labelsize=16)\n",
    "plt.savefig(f\"{file_name}.png\", dpi=600)"
   ]
  },
  {
   "cell_type": "code",
   "execution_count": 17,
   "metadata": {},
   "outputs": [
    {
     "data": {
      "text/html": [
       "<div>\n",
       "<style scoped>\n",
       "    .dataframe tbody tr th:only-of-type {\n",
       "        vertical-align: middle;\n",
       "    }\n",
       "\n",
       "    .dataframe tbody tr th {\n",
       "        vertical-align: top;\n",
       "    }\n",
       "\n",
       "    .dataframe thead th {\n",
       "        text-align: right;\n",
       "    }\n",
       "</style>\n",
       "<table border=\"1\" class=\"dataframe\">\n",
       "  <thead>\n",
       "    <tr style=\"text-align: right;\">\n",
       "      <th></th>\n",
       "      <th>frequency [Hz]</th>\n",
       "      <th>power spectral density [dB/Hz]</th>\n",
       "    </tr>\n",
       "  </thead>\n",
       "  <tbody>\n",
       "    <tr>\n",
       "      <th>0</th>\n",
       "      <td>264860000.0</td>\n",
       "      <td>-59.5680</td>\n",
       "    </tr>\n",
       "    <tr>\n",
       "      <th>1</th>\n",
       "      <td>264860068.4</td>\n",
       "      <td>-59.2947</td>\n",
       "    </tr>\n",
       "    <tr>\n",
       "      <th>2</th>\n",
       "      <td>264860136.7</td>\n",
       "      <td>-59.6201</td>\n",
       "    </tr>\n",
       "    <tr>\n",
       "      <th>3</th>\n",
       "      <td>264860205.1</td>\n",
       "      <td>-59.4708</td>\n",
       "    </tr>\n",
       "    <tr>\n",
       "      <th>4</th>\n",
       "      <td>264860273.4</td>\n",
       "      <td>-59.3329</td>\n",
       "    </tr>\n",
       "    <tr>\n",
       "      <th>...</th>\n",
       "      <td>...</td>\n",
       "      <td>...</td>\n",
       "    </tr>\n",
       "    <tr>\n",
       "      <th>4091</th>\n",
       "      <td>265139658.2</td>\n",
       "      <td>-59.4513</td>\n",
       "    </tr>\n",
       "    <tr>\n",
       "      <th>4092</th>\n",
       "      <td>265139726.6</td>\n",
       "      <td>-59.3484</td>\n",
       "    </tr>\n",
       "    <tr>\n",
       "      <th>4093</th>\n",
       "      <td>265139794.9</td>\n",
       "      <td>-59.7476</td>\n",
       "    </tr>\n",
       "    <tr>\n",
       "      <th>4094</th>\n",
       "      <td>265139863.3</td>\n",
       "      <td>-59.7017</td>\n",
       "    </tr>\n",
       "    <tr>\n",
       "      <th>4095</th>\n",
       "      <td>265139931.6</td>\n",
       "      <td>-59.4660</td>\n",
       "    </tr>\n",
       "  </tbody>\n",
       "</table>\n",
       "<p>4096 rows × 2 columns</p>\n",
       "</div>"
      ],
      "text/plain": [
       "      frequency [Hz]  power spectral density [dB/Hz]\n",
       "0        264860000.0                        -59.5680\n",
       "1        264860068.4                        -59.2947\n",
       "2        264860136.7                        -59.6201\n",
       "3        264860205.1                        -59.4708\n",
       "4        264860273.4                        -59.3329\n",
       "...              ...                             ...\n",
       "4091     265139658.2                        -59.4513\n",
       "4092     265139726.6                        -59.3484\n",
       "4093     265139794.9                        -59.7476\n",
       "4094     265139863.3                        -59.7017\n",
       "4095     265139931.6                        -59.4660\n",
       "\n",
       "[4096 rows x 2 columns]"
      ]
     },
     "execution_count": 17,
     "metadata": {},
     "output_type": "execute_result"
    }
   ],
   "source": [
    "# from_spectrum_dat_file = pd.read_csv(\"test_rtl_sdr_overlap_25k.dat\", sep = \" \", header = 4)\n",
    "# from_spectrum_dat_file"
   ]
  },
  {
   "cell_type": "code",
   "execution_count": 18,
   "metadata": {},
   "outputs": [
    {
     "data": {
      "image/png": "[encoded data removed]",
      "text/plain": [
       "<Figure size 432x288 with 1 Axes>"
      ]
     },
     "metadata": {
      "needs_background": "light"
     },
     "output_type": "display_data"
    }
   ],
   "source": [
    "# plt.plot(from_spectrum_dat_file.iloc[:,0], from_spectrum_dat_file.iloc[:,1])\n",
    "# matplotlib.rc('xtick', labelsize = 16)\n",
    "# plt.grid()\n",
    "# plt.savefig(\"from_spectrum_dat_file.png\", dpi = 600)"
   ]
  },
  {
   "cell_type": "code",
   "execution_count": null,
   "metadata": {},
   "outputs": [],
   "source": []
  }
 ],
 "metadata": {
  "kernelspec": {
   "display_name": "Python 3.9.12 ('base')",
   "language": "python",
   "name": "python3"
  },
  "language_info": {
   "codemirror_mode": {
    "name": "ipython",
    "version": 3
   },
   "file_extension": ".py",
   "mimetype": "text/x-python",
   "name": "python",
   "nbconvert_exporter": "python",
   "pygments_lexer": "ipython3",
   "version": "3.9.12"
  },
  "orig_nbformat": 4,
  "vscode": {
   "interpreter": {
    "hash": "ad2bdc8ecc057115af97d19610ffacc2b4e99fae6737bb82f5d7fb13d2f2c186"
   }
  }
 },
 "nbformat": 4,
 "nbformat_minor": 2
}
